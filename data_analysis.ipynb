{
 "cells": [
  {
   "cell_type": "code",
   "execution_count": 18,
   "id": "424a5c40-e547-4682-8b7c-1309daa303ec",
   "metadata": {
    "scrolled": true
   },
   "outputs": [],
   "source": [
    "import csv\n",
    "import os\n",
    "from os import path\n",
    "import pandas as pd\n",
    "import numpy as np\n",
    "import matplotlib.pyplot as plt\n",
    "import seaborn as sns\n"
   ]
  },
  {
   "cell_type": "code",
   "execution_count": 23,
   "id": "82c417b9",
   "metadata": {
    "scrolled": true
   },
   "outputs": [
    {
     "name": "stdout",
     "output_type": "stream",
     "text": [
      "Taylor Album Songs DataFrame:\n",
      "    artist_name               artist_id                album_id album_type  \\\n",
      "0  Taylor Swift  06HL4z0CvFAxyc27GXpf02  5eyZZoQEFQWRHkV2xgAeBw      album   \n",
      "1  Taylor Swift  06HL4z0CvFAxyc27GXpf02  5eyZZoQEFQWRHkV2xgAeBw      album   \n",
      "2  Taylor Swift  06HL4z0CvFAxyc27GXpf02  5eyZZoQEFQWRHkV2xgAeBw      album   \n",
      "3  Taylor Swift  06HL4z0CvFAxyc27GXpf02  5eyZZoQEFQWRHkV2xgAeBw      album   \n",
      "4  Taylor Swift  06HL4z0CvFAxyc27GXpf02  5eyZZoQEFQWRHkV2xgAeBw      album   \n",
      "\n",
      "  album_release_date                track_id  explicit  \\\n",
      "0         2006-10-24  2Fn01AIMyHbha2ceNQeOqw     False   \n",
      "1         2006-10-24  4BYejINgfZF0qKDMEH2cim     False   \n",
      "2         2006-10-24  2TF4UtYreqNbQ6Z9AccldU     False   \n",
      "3         2006-10-24  1oR4MUBpyNrAViC8wPNpfm     False   \n",
      "4         2006-10-24  569sXXQ7t0jSdqHooi2yqs     False   \n",
      "\n",
      "                                    track_name  track_number   type  \\\n",
      "0                                   Tim McGraw             1  track   \n",
      "1                              Picture To Burn             2  track   \n",
      "2  Teardrops On My Guitar - Radio Single Remix             3  track   \n",
      "3                        A Place in this World             4  track   \n",
      "4                                  Cold As You             5  track   \n",
      "\n",
      "     album_name  \n",
      "0  Taylor Swift  \n",
      "1  Taylor Swift  \n",
      "2  Taylor Swift  \n",
      "3  Taylor Swift  \n",
      "4  Taylor Swift  \n",
      "Column names: Index(['artist_name', 'artist_id', 'album_id', 'album_type',\n",
      "       'album_release_date', 'track_id', 'explicit', 'track_name',\n",
      "       'track_number', 'type', 'album_name'],\n",
      "      dtype='object')\n",
      "Data types:\n",
      "artist_name           object\n",
      "artist_id             object\n",
      "album_id              object\n",
      "album_type            object\n",
      "album_release_date    object\n",
      "track_id              object\n",
      "explicit                bool\n",
      "track_name            object\n",
      "track_number           int64\n",
      "type                  object\n",
      "album_name            object\n",
      "dtype: object\n"
     ]
    }
   ],
   "source": [
    "# Define relative filepath in a subdirectory\n",
    "file_path = \"data/taylor_album_songs.csv\"\n",
    "\n",
    "# Read file and print dataframe\n",
    "data_taylor_album_songs = pd.read_csv(file_path)\n",
    "columns_to_drop = ['album_release_year', 'album_release_date_precision', 'danceability', 'energy', 'key', 'loudness', 'mode', 'speechiness', 'acousticness', 'instrumentalness', 'liveness', 'valence', 'tempo', 'time_signature', 'disc_number', 'duration_ms', 'track_preview_url', 'track_uri', 'external_urls.spotify', 'key_name', 'mode_name', 'key_mode', 'track_href', 'is_local', 'analysis_url']\n",
    "data_taylor_album_songs.drop(columns=columns_to_drop, axis=1, inplace=True)\n",
    "print(\"Taylor Album Songs DataFrame:\")\n",
    "print(data_taylor_album_songs.head())\n",
    "\n",
    "# Print column names and data types\n",
    "print(\"Column names:\", data_taylor_album_songs.columns)\n",
    "print(\"Data types:\")\n",
    "print(data_taylor_album_songs.dtypes)"
   ]
  },
  {
   "cell_type": "code",
   "execution_count": 24,
   "id": "d971a586",
   "metadata": {
    "scrolled": true
   },
   "outputs": [
    {
     "name": "stdout",
     "output_type": "stream",
     "text": [
      "\n",
      "Taylor Lyrics DataFrame:\n",
      "              album_name Release Date              track_name featuring  \\\n",
      "0  Taylor Swift (Deluxe)   06/11/2007              Tim McGraw       NaN   \n",
      "1  Taylor Swift (Deluxe)   06/11/2007         Picture to Burn       NaN   \n",
      "2  Taylor Swift (Deluxe)   06/11/2007  Teardrops On My Guitar       NaN   \n",
      "3  Taylor Swift (Deluxe)   06/11/2007   A Place In This World       NaN   \n",
      "4  Taylor Swift (Deluxe)   06/11/2007             Cold as You       NaN   \n",
      "\n",
      "                                              lyrics  \n",
      "0  He said the way my blue eyes shined Put those ...  \n",
      "1  State the obvious I didn t get my perfect fant...  \n",
      "2  Drew looks at me I fake a smile so he won t se...  \n",
      "3  I don t know what I want so don t ask me Cause...  \n",
      "4  You have a way of coming easily to me And when...  \n",
      "Column names: Index(['album_name', 'Release Date', 'track_name', 'featuring', 'lyrics'], dtype='object')\n",
      "Data types:\n",
      "album_name      object\n",
      "Release Date    object\n",
      "track_name      object\n",
      "featuring       object\n",
      "lyrics          object\n",
      "dtype: object\n"
     ]
    }
   ],
   "source": [
    "# Define relative filepath in a subdirectory\n",
    "file_path = \"data/taylor_lyrics.csv\"\n",
    "\n",
    "# Read file and print dataframe\n",
    "data_taylor_lyrics = pd.read_csv(file_path)\n",
    "data_taylor_lyrics.rename(columns = {'Lyrics':'lyrics', 'Album':'album_name', 'Song Title':'track_name', 'Featured Artists':'featuring'}, inplace=True)\n",
    "print(\"\\nTaylor Lyrics DataFrame:\")\n",
    "print(data_taylor_lyrics.head())\n",
    "\n",
    "# Print column names and data types\n",
    "print(\"Column names:\", data_taylor_lyrics.columns)\n",
    "print(\"Data types:\")\n",
    "print(data_taylor_lyrics.dtypes)"
   ]
  },
  {
   "cell_type": "code",
   "execution_count": null,
   "id": "a893de84-2c65-48b6-94fe-77a21bbd10e4",
   "metadata": {},
   "outputs": [],
   "source": []
  }
 ],
 "metadata": {
  "kernelspec": {
   "display_name": "Python 3 (ipykernel)",
   "language": "python",
   "name": "python3"
  },
  "language_info": {
   "codemirror_mode": {
    "name": "ipython",
    "version": 3
   },
   "file_extension": ".py",
   "mimetype": "text/x-python",
   "name": "python",
   "nbconvert_exporter": "python",
   "pygments_lexer": "ipython3",
   "version": "3.11.4"
  }
 },
 "nbformat": 4,
 "nbformat_minor": 5
}
