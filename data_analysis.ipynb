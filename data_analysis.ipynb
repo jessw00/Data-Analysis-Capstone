{
 "cells": [
  {
   "cell_type": "code",
   "execution_count": 60,
   "id": "424a5c40-e547-4682-8b7c-1309daa303ec",
   "metadata": {
    "scrolled": true
   },
   "outputs": [],
   "source": [
    "import csv\n",
    "import os\n",
    "from os import path\n",
    "import pandas as pd\n",
    "import numpy as np\n",
    "import matplotlib.pyplot as plt\n",
    "import seaborn as sns"
   ]
  },
  {
   "cell_type": "code",
   "execution_count": 61,
   "id": "6f34d2e9",
   "metadata": {
    "scrolled": true
   },
   "outputs": [
    {
     "name": "stdout",
     "output_type": "stream",
     "text": [
      "Taylor Album Songs DataFrame:\n",
      "    artist_name               artist_id                album_id album_type  \\\n",
      "0  Taylor Swift  06HL4z0CvFAxyc27GXpf02  5eyZZoQEFQWRHkV2xgAeBw      album   \n",
      "1  Taylor Swift  06HL4z0CvFAxyc27GXpf02  5eyZZoQEFQWRHkV2xgAeBw      album   \n",
      "2  Taylor Swift  06HL4z0CvFAxyc27GXpf02  5eyZZoQEFQWRHkV2xgAeBw      album   \n",
      "3  Taylor Swift  06HL4z0CvFAxyc27GXpf02  5eyZZoQEFQWRHkV2xgAeBw      album   \n",
      "4  Taylor Swift  06HL4z0CvFAxyc27GXpf02  5eyZZoQEFQWRHkV2xgAeBw      album   \n",
      "\n",
      "  album_release_date  album_release_year album_release_date_precision  \\\n",
      "0         2006-10-24                2006                          day   \n",
      "1         2006-10-24                2006                          day   \n",
      "2         2006-10-24                2006                          day   \n",
      "3         2006-10-24                2006                          day   \n",
      "4         2006-10-24                2006                          day   \n",
      "\n",
      "   danceability  energy  key  ...  \\\n",
      "0         0.580   0.491    0  ...   \n",
      "1         0.658   0.877    7  ...   \n",
      "2         0.621   0.417   10  ...   \n",
      "3         0.576   0.777    9  ...   \n",
      "4         0.418   0.482    5  ...   \n",
      "\n",
      "                                    track_name  track_preview_url  \\\n",
      "0                                   Tim McGraw                NaN   \n",
      "1                              Picture To Burn                NaN   \n",
      "2  Teardrops On My Guitar - Radio Single Remix                NaN   \n",
      "3                        A Place in this World                NaN   \n",
      "4                                  Cold As You                NaN   \n",
      "\n",
      "   track_number   type                             track_uri  \\\n",
      "0             1  track  spotify:track:2Fn01AIMyHbha2ceNQeOqw   \n",
      "1             2  track  spotify:track:4BYejINgfZF0qKDMEH2cim   \n",
      "2             3  track  spotify:track:2TF4UtYreqNbQ6Z9AccldU   \n",
      "3             4  track  spotify:track:1oR4MUBpyNrAViC8wPNpfm   \n",
      "4             5  track  spotify:track:569sXXQ7t0jSdqHooi2yqs   \n",
      "\n",
      "                               external_urls.spotify    album_name  key_name  \\\n",
      "0  https://open.spotify.com/track/2Fn01AIMyHbha2c...  Taylor Swift         C   \n",
      "1  https://open.spotify.com/track/4BYejINgfZF0qKD...  Taylor Swift         G   \n",
      "2  https://open.spotify.com/track/2TF4UtYreqNbQ6Z...  Taylor Swift        A#   \n",
      "3  https://open.spotify.com/track/1oR4MUBpyNrAViC...  Taylor Swift         A   \n",
      "4  https://open.spotify.com/track/569sXXQ7t0jSdqH...  Taylor Swift         F   \n",
      "\n",
      "  mode_name  key_mode  \n",
      "0     major   C major  \n",
      "1     major   G major  \n",
      "2     major  A# major  \n",
      "3     major   A major  \n",
      "4     major   F major  \n",
      "\n",
      "[5 rows x 36 columns]\n",
      "Column names: Index(['album_type', 'album_release_date', 'track_id', 'explicit',\n",
      "       'track_name', 'track_number', 'type', 'album_name', 'lyrics'],\n",
      "      dtype='object')\n",
      "Data types:\n",
      "album_type             object\n",
      "album_release_date     object\n",
      "track_id               object\n",
      "explicit                 bool\n",
      "track_name             object\n",
      "track_number            int64\n",
      "type                   object\n",
      "album_name             object\n",
      "lyrics                float64\n",
      "dtype: object\n"
     ]
    }
   ],
   "source": [
    "# Define relative filepath in a subdirectory\n",
    "file_path = \"data/taylor_album_songs.csv\"\n",
    "data_directory = 'data'\n",
    "os.makedirs(data_directory, exist_ok=True)\n",
    "\n",
    "# Read file and print dataframe\n",
    "data_taylor_album_songs = pd.read_csv(file_path)\n",
    "print(\"Taylor Album Songs DataFrame:\")\n",
    "print(data_taylor_album_songs.head())\n",
    "\n",
    "# Clean data and create a new csv\n",
    "columns_to_drop = ['artist_name', 'artist_id', 'album_id', 'album_release_year', 'album_release_date_precision', 'danceability', 'energy', 'key', 'loudness', 'mode', 'speechiness', 'acousticness', 'instrumentalness', 'liveness', 'valence', 'tempo', 'time_signature', 'disc_number', 'duration_ms', 'track_preview_url', 'track_uri', 'external_urls.spotify', 'key_name', 'mode_name', 'key_mode', 'track_href', 'is_local', 'analysis_url']\n",
    "data_taylor_album_songs.drop(columns=columns_to_drop, axis=1, inplace=True)\n",
    "values_to_remove = [\"Taylor Swift\", \"Fearless (Taylor's Version)\", \"Speak Now (Taylor's Version)\", \"Red (Taylor's Version)\", \"1989 (Deluxe)\", \"reputation\", \"Lover\", \"folklore (deluxe version)\", \"evermore (deluxe version)\", \"Midnights (The Til Dawn Edition)\"]\n",
    "data_taylor_album_songs = data_taylor_album_songs[data_taylor_album_songs['album_name'].isin(values_to_remove)]\n",
    "data_taylor_album_songs['lyrics'] = np.nan\n",
    "cleaned_album_data = data_taylor_album_songs\n",
    "data_taylor_album_songs.to_csv('data/cleaned_album_data.csv', index=False)\n",
    "\n",
    "# Print column names and data types\n",
    "print(\"Column names:\", data_taylor_album_songs.columns)\n",
    "print(\"Data types:\")\n",
    "print(data_taylor_album_songs.dtypes)"
   ]
  },
  {
   "cell_type": "code",
   "execution_count": 62,
   "id": "d308529d",
   "metadata": {
    "scrolled": true
   },
   "outputs": [
    {
     "name": "stdout",
     "output_type": "stream",
     "text": [
      "\n",
      "Taylor Lyrics DataFrame:\n",
      "              album_name album_release_date              track_name featuring  \\\n",
      "0  Taylor Swift (Deluxe)         06/11/2007              Tim McGraw       NaN   \n",
      "1  Taylor Swift (Deluxe)         06/11/2007         Picture to Burn       NaN   \n",
      "2  Taylor Swift (Deluxe)         06/11/2007  Teardrops On My Guitar       NaN   \n",
      "3  Taylor Swift (Deluxe)         06/11/2007   A Place In This World       NaN   \n",
      "4  Taylor Swift (Deluxe)         06/11/2007             Cold as You       NaN   \n",
      "\n",
      "                                              lyrics  \n",
      "0  He said the way my blue eyes shined Put those ...  \n",
      "1  State the obvious I didn t get my perfect fant...  \n",
      "2  Drew looks at me I fake a smile so he won t se...  \n",
      "3  I don t know what I want so don t ask me Cause...  \n",
      "4  You have a way of coming easily to me And when...  \n",
      "Column names: Index(['album_name', 'album_release_date', 'track_name', 'featuring',\n",
      "       'lyrics'],\n",
      "      dtype='object')\n",
      "Data types:\n",
      "album_name            object\n",
      "album_release_date    object\n",
      "track_name            object\n",
      "featuring             object\n",
      "lyrics                object\n",
      "dtype: object\n"
     ]
    }
   ],
   "source": [
    "# Define relative filepath in a subdirectory\n",
    "file_path = \"data/taylor_lyrics.csv\"\n",
    "\n",
    "# Read file and print dataframe\n",
    "data_taylor_lyrics = pd.read_csv(file_path)\n",
    "data_taylor_lyrics.rename(columns = {'Lyrics':'lyrics', 'Album':'album_name', 'Song Title':'track_name', 'Featured Artists':'featuring', 'Release Date': 'album_release_date'}, inplace=True)\n",
    "print(\"\\nTaylor Lyrics DataFrame:\")\n",
    "print(data_taylor_lyrics.head())\n",
    "\n",
    "#Clean data and create new csv\n",
    "cleaned_lyric_data = data_taylor_lyrics\n",
    "cleaned_lyric_data.to_csv('data/cleaned_lyric_data.csv', index=False)\n",
    "\n",
    "# Print column names and data types\n",
    "print(\"Column names:\", data_taylor_lyrics.columns)\n",
    "print(\"Data types:\")\n",
    "print(data_taylor_lyrics.dtypes)"
   ]
  },
  {
   "cell_type": "code",
   "execution_count": 63,
   "id": "16ec825d-19a5-4a92-8aea-88dd1be4478b",
   "metadata": {},
   "outputs": [],
   "source": [
    "#Convert data types so 'lyrics' columns are the same in both datasets\n",
    "cleaned_album_data['lyrics'] = cleaned_album_data['lyrics'].astype(str)\n",
    "cleaned_lyric_data['lyrics'] = cleaned_lyric_data['lyrics'].astype(str)\n",
    "data_taylor_album_songs['lyrics'] = data_taylor_album_songs['lyrics'].str.lower()\n",
    "data_taylor_lyrics['lyrics'] = data_taylor_lyrics['lyrics'].str.lower()\n",
    "\n",
    "# Merge data and save to new csv\n",
    "merged_data = pd.merge(cleaned_album_data, cleaned_lyric_data, on='lyrics', how='inner')\n",
    "merged_data.to_csv('data/merged_taylor_data.csv', index=False)"
   ]
  }
 ],
 "metadata": {
  "kernelspec": {
   "display_name": "Python 3 (ipykernel)",
   "language": "python",
   "name": "python3"
  },
  "language_info": {
   "codemirror_mode": {
    "name": "ipython",
    "version": 3
   },
   "file_extension": ".py",
   "mimetype": "text/x-python",
   "name": "python",
   "nbconvert_exporter": "python",
   "pygments_lexer": "ipython3",
   "version": "3.11.4"
  }
 },
 "nbformat": 4,
 "nbformat_minor": 5
}
