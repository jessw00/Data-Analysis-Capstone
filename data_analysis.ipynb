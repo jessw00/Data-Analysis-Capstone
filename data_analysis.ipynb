{
 "cells": [
  {
   "cell_type": "code",
   "execution_count": 474,
   "id": "424a5c40-e547-4682-8b7c-1309daa303ec",
   "metadata": {
    "scrolled": true
   },
   "outputs": [],
   "source": [
    "import csv\n",
    "import os\n",
    "from os import path\n",
    "import pandas as pd\n",
    "import numpy as np\n",
    "import matplotlib.pyplot as plt\n",
    "import seaborn as sns"
   ]
  },
  {
   "cell_type": "code",
   "execution_count": 614,
   "id": "6f34d2e9",
   "metadata": {
    "scrolled": true
   },
   "outputs": [],
   "source": [
    "# Define relative filepath in a subdirectory\n",
    "file_path = \"data/taylor_album_songs.csv\"\n",
    "data_directory = 'data'\n",
    "os.makedirs(data_directory, exist_ok=True)\n",
    "\n",
    "# Read file\n",
    "data_taylor_album_songs = pd.read_csv(file_path)\n",
    "\n",
    "# Clean data and create a new csv\n",
    "columns_to_drop = ['artist_name', 'artist_id', 'album_id', 'album_release_year', 'album_release_date_precision', 'album_type', 'danceability', 'energy', 'key', 'loudness', 'mode', 'speechiness', 'track_id', 'track_number', 'type', 'acousticness', 'instrumentalness', 'liveness', 'valence', 'tempo', 'time_signature', 'disc_number', 'duration_ms', 'track_preview_url', 'track_uri', 'external_urls.spotify', 'key_name', 'mode_name', 'key_mode', 'track_href', 'is_local', 'analysis_url']\n",
    "data_taylor_album_songs.drop(columns=columns_to_drop, axis=1, inplace=True)\n",
    "values_to_keep = [\"Taylor Swift\", \"Fearless (Taylor's Version)\", \"Speak Now (Taylor's Version)\", \"Red (Taylor's Version)\", \"1989 (Deluxe)\", \"reputation\", \"Lover\", \"folklore (deluxe version)\", \"evermore (deluxe version)\", \"Midnights (3am Edition)\"]\n",
    "data_taylor_album_songs = data_taylor_album_songs[data_taylor_album_songs['album_name'].isin(values_to_keep)]\n",
    "\n",
    "cleaned_album_data = data_taylor_album_songs\n",
    "cleaned_album_data.rename(columns = {'album_release_date': 'Release Date', 'explicit': 'Explicit', 'track_name': 'Song Title', 'album_name': 'Album', 'lyrics': 'Lyrics' }, inplace=True)\n",
    "cleaned_album_data = cleaned_album_data[['Album', 'Release Date', 'Explicit', 'Song Title']]\n",
    "songs_to_drop = [\"Speak Now (Taylor’s Version) [Prologue]\", \"A Message From Taylor\", \"Taylor Swift’s First Phone Call With Tim McGraw\", \"I Know Places (Voice Memo)\", \"I Wish You Would (Voice Memo)\",  \"Blank Space (Voice Memo)\", \"If You’re Anything Like Me [Poem]\", \"Why She Disappeared [Poem]\", \"Reputation [Prologue]\", \"Evermore [Liner Notes]\", \"​​folklore [Foreword]\", \"Forever & Always (Piano Version) [Taylor’s Version]\", \"Love Story (Taylor’s Version) [Elvira Remix]\",  \"State Of Grace (Acoustic Version) (Taylor’s Version)\"]\n",
    "rows_to_drop = cleaned_album_data['Song Title'].isin(songs_to_drop)\n",
    "cleaned_album_data['Album'].replace({'Taylor Swift': 'Taylor Swift (Deluxe)'}, inplace=True)\n",
    "\n",
    "#\n",
    "cleaned_album_data.to_csv('data/cleaned_album_data.csv', index=False)\n"
   ]
  },
  {
   "cell_type": "code",
   "execution_count": 617,
   "id": "d308529d",
   "metadata": {
    "scrolled": true
   },
   "outputs": [],
   "source": [
    "# Define relative filepath in a subdirectory\n",
    "file_path = \"data/taylor_lyrics.csv\"\n",
    "\n",
    "# Read file\n",
    "data_taylor_lyrics = pd.read_csv(file_path)\n",
    "\n",
    "#Clean data and create new csv\n",
    "cleaned_lyric_data = data_taylor_lyrics\n",
    "\n",
    "#Remove duplicate tracks and spoken/non-songs\n",
    "songs_to_drop = [\"Speak Now (Taylor’s Version) [Prologue]\", \"A Message From Taylor\", \"Taylor Swift’s First Phone Call With Tim McGraw\", \"I Know Places (Voice Memo)\", \"I Wish You Would (Voice Memo)\",  \"Blank Space (Voice Memo)\", \"If You’re Anything Like Me [Poem]\", \"Why She Disappeared [Poem]\", \"Reputation [Prologue]\", \"Evermore [Liner Notes]\", \"folklore [Foreward]\", \"Forever & Always (Piano Version) [Taylor’s Version]\", \"Love Story (Taylor’s Version) [Elvira Remix]\",  \"State Of Grace (Acoustic Version) (Taylor’s Version)\"]\n",
    "rows_to_drop = cleaned_lyric_data['Song Title'].isin(songs_to_drop)\n",
    "columns_to_drop = [\"Featured Artists\"]\n",
    "data_taylor_lyrics.drop(columns=columns_to_drop, axis=1, inplace=True)\n",
    "cleaned_lyric_data = cleaned_lyric_data[~rows_to_drop]\n",
    "\n",
    "cleaned_lyric_data.to_csv('data/cleaned_lyric_data.csv', index=False)"
   ]
  },
  {
   "cell_type": "code",
   "execution_count": 619,
   "metadata": {},
   "outputs": [],
   "source": [
    "# Reload cleaned data\n",
    "cleaned_album_data = pd.read_csv('data/cleaned_album_data.csv')\n",
    "cleaned_lyric_data = pd.read_csv('data/cleaned_lyric_data.csv')\n",
    "\n",
    "# Merge\n",
    "merged_data = cleaned_lyric_data.merge(\n",
    "    cleaned_album_data[['Album', 'Release Date', 'Song Title', 'Explicit']],\n",
    "    on=['Album', 'Release Date', 'Song Title'],\n",
    "    how='left'\n",
    ")\n",
    "\n",
    "# Fill NaN values in 'Explicit' with values from cleaned_album_data\n",
    "merged_data['Explicit'].fillna(cleaned_album_data['Explicit'], inplace=True)\n",
    "\n",
    "# Rearrange columns\n",
    "column_order = ['Album', 'Release Date', 'Song Title', 'Explicit', 'Lyrics']\n",
    "merged_data = merged_data[column_order]\n",
    "\n",
    "# Save to a new CSV file\n",
    "merged_data.to_csv('data/merged_taylor_data.csv', index=False)"
   ]
  },
  {
   "cell_type": "code",
   "execution_count": null,
   "metadata": {},
   "outputs": [],
   "source": []
  }
 ],
 "metadata": {
  "kernelspec": {
   "display_name": "Python 3 (ipykernel)",
   "language": "python",
   "name": "python3"
  },
  "language_info": {
   "codemirror_mode": {
    "name": "ipython",
    "version": 3
   },
   "file_extension": ".py",
   "mimetype": "text/x-python",
   "name": "python",
   "nbconvert_exporter": "python",
   "pygments_lexer": "ipython3",
   "version": "3.11.4"
  }
 },
 "nbformat": 4,
 "nbformat_minor": 5
}
